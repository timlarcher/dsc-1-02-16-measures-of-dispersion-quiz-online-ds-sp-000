{
 "cells": [
  {
   "cell_type": "markdown",
   "metadata": {},
   "source": [
    "# Measures of Dispersion - Quiz\n",
    "\n",
    "## Objectives\n",
    "You will be able to:\n",
    "* Describe the significance of calculating measures of dispersion for continuous data\n",
    "* Understand the formula and intuition behind mean absolute deviation, standard deviation and variance\n",
    "* Understand the formula and intuition behind quantiles/quartiles and percentiles\n",
    "* Understand and interpret Interquartile distances with box plots"
   ]
  },
  {
   "cell_type": "markdown",
   "metadata": {},
   "source": [
    "## Exercise 1\n",
    "Summary statistics for two samples of data are\n",
    "```\n",
    "Sample 1:\t\n",
    "mean = 19 \n",
    "variance = 10\n",
    "\n",
    "Sample 2:\t\n",
    "mean = 10\n",
    "variance = 19\n",
    "```\n",
    "Which sample has the larger spread of observations?"
   ]
  },
  {
   "cell_type": "code",
   "execution_count": 22,
   "metadata": {},
   "outputs": [],
   "source": [
    "# Your answer here \n",
    "Sample 2 since variance is higher."
   ]
  },
  {
   "cell_type": "markdown",
   "metadata": {},
   "source": [
    "## Exercise 2\n",
    "Consider the following ordered set of data\n",
    "```\n",
    "4 4 4 9 5 0 5 1 5 3 5 7 5 8 6 2\n",
    "\n",
    "6 6 6 6 6 8 7 1 7 5 7 7 8 0 8 5\n",
    "```\n",
    "\n",
    "* What is the IQR? \n",
    "* Optional extension: Verify your answer in Python "
   ]
  },
  {
   "cell_type": "code",
   "execution_count": 10,
   "metadata": {},
   "outputs": [
    {
     "name": "stdout",
     "output_type": "stream",
     "text": [
      "8 5 5\n",
      "5.0 [0, 1, 2, 3, 4, 4, 4, 5] [5, 5, 5, 5, 6, 7, 8, 9]\n",
      "4 3 4\n",
      "3.5\n",
      "4 5 6\n",
      "5.5\n",
      "IQR: 2.0\n"
     ]
    }
   ],
   "source": [
    "# Your answer here \n",
    "data = [4, 4, 4, 9, 5, 0, 5, 1, 5, 3, 5, 7, 5, 8, 6, 2]\n",
    "data = sorted(data)\n",
    "n = len(data)\n",
    "\n",
    "if n % 2 == 0:\n",
    "    low = data[0:n//2]\n",
    "    high = data[n//2:n]\n",
    "    median = (data[n//2-1] + data[n//2]) / 2\n",
    "    print(n//2, data[n//2-1], data[n//2])\n",
    "else:\n",
    "    low = data[0:n//2-1]\n",
    "    high = data[n//2:n-1]\n",
    "    median = data[n//2]\n",
    "print(median,low,high)\n",
    "\n",
    "# lower Median\n",
    "n = len(low)\n",
    "if n % 2 == 0:\n",
    "    low_med = (low[n//2-1] + low[n//2]) / 2\n",
    "    print(n//2, low[n//2-1], low[n//2])\n",
    "else:\n",
    "    low_med = low[n//2]\n",
    "print(low_med)\n",
    "\n",
    "# Upper Median\n",
    "n = len(high)\n",
    "if n % 2 == 0:\n",
    "    high_med = (high[n//2-1] + high[n//2]) / 2\n",
    "    print(n//2, high[n//2-1], high[n//2])\n",
    "else:\n",
    "    high_med = high[n//2]\n",
    "print(high_med)\n",
    "\n",
    "print(\"IQR: \" + str(high_med - low_med))"
   ]
  },
  {
   "cell_type": "markdown",
   "metadata": {},
   "source": [
    "### Exercise 3\n",
    "Create a box-and-whisker plot for the judges' scores for an artist's performances in a talent competition.\n",
    "\n",
    "```\n",
    "Evan L\t52\n",
    "Nicole S  50\n",
    "Pamela A  47\n",
    "Chad O\t44\n",
    "Erin A\t39\n",
    "Jake P\t38\n",
    "Niecy N   36\n",
    "Kate G\t32\n",
    "```\n",
    "Create a box plot in matplotlib to identify the median for giving a final score to the artist. Are there any outliers ?"
   ]
  },
  {
   "cell_type": "code",
   "execution_count": 31,
   "metadata": {},
   "outputs": [],
   "source": [
    "# Your answer here "
   ]
  },
  {
   "cell_type": "code",
   "execution_count": 19,
   "metadata": {},
   "outputs": [
    {
     "name": "stdout",
     "output_type": "stream",
     "text": [
      "4 39 44\n",
      "41.5 [32, 36, 38, 39] [44, 47, 50, 52]\n",
      "2 36 38\n",
      "37.0\n",
      "2 47 50\n",
      "48.5\n",
      "IQR: 11.5\n"
     ]
    },
    {
     "data": {
      "image/png": "[encoded data removed]",
      "text/plain": [
       "<Figure size 432x288 with 1 Axes>"
      ]
     },
     "metadata": {},
     "output_type": "display_data"
    }
   ],
   "source": [
    "# # Your answer here \n",
    "data = [52,50,47,44,39,38,36,32]\n",
    "\n",
    "data = sorted(data)\n",
    "n = len(data)\n",
    "\n",
    "if n % 2 == 0:\n",
    "    low = data[0:n//2]\n",
    "    high = data[n//2:n]\n",
    "    median = (data[n//2-1] + data[n//2]) / 2\n",
    "    print(n//2, data[n//2-1], data[n//2])\n",
    "else:\n",
    "    low = data[0:n//2-1]\n",
    "    high = data[n//2:n-1]\n",
    "    median = data[n//2]\n",
    "print(median,low,high)\n",
    "\n",
    "# lower Median\n",
    "n = len(low)\n",
    "if n % 2 == 0:\n",
    "    low_med = (low[n//2-1] + low[n//2]) / 2\n",
    "    print(n//2, low[n//2-1], low[n//2])\n",
    "else:\n",
    "    low_med = low[n//2]\n",
    "print(low_med)\n",
    "\n",
    "# Upper Median\n",
    "n = len(high)\n",
    "if n % 2 == 0:\n",
    "    high_med = (high[n//2-1] + high[n//2]) / 2\n",
    "    print(n//2, high[n//2-1], high[n//2])\n",
    "else:\n",
    "    high_med = high[n//2]\n",
    "print(high_med)\n",
    "\n",
    "print(\"IQR: \" + str(high_med - low_med))\n",
    "\n",
    "import matplotlib.pyplot as plt\n",
    "plt.style.use('ggplot') # for viewing a grid on plot\n",
    "plt.boxplot(data,  showfliers=False)\n",
    "plt.title (\"Marriages BoxPlot\")\n",
    "plt.show()\n"
   ]
  },
  {
   "cell_type": "markdown",
   "metadata": {},
   "source": [
    "### Exercise 4\n",
    "Imagine that the number of marriages registered over a 10 year period were as follows:\n",
    "\n",
    "Table 1.  Number of registered marriages\n",
    "```\n",
    "Year  Number of marriages\n",
    "\n",
    "1\t40,650\n",
    "2\t40,812\n",
    "3\t41,300\n",
    "4\t41,450\n",
    "5\t39,594\n",
    "6\t40,734\n",
    "7\t39,993\n",
    "8\t38,814\n",
    "9\t37,828\n",
    "10   35,716\n",
    "```\n",
    "Using the data above:\n",
    "\n",
    "####  Find the median "
   ]
  },
  {
   "cell_type": "code",
   "execution_count": 13,
   "metadata": {},
   "outputs": [
    {
     "name": "stdout",
     "output_type": "stream",
     "text": [
      "Median: 40321.5\n"
     ]
    }
   ],
   "source": [
    "# Your answer here \n",
    "data = [40650,40812,41300,41450,39594,40734,39993,38814,37828,35716]\n",
    "data = sorted(data)\n",
    "n = len(data)\n",
    "\n",
    "if n % 2 == 0:\n",
    "    median = (data[n//2-1] + data[n//2]) / 2\n",
    "else:\n",
    "    median = data[n//2]\n",
    "print(\"Median: \" + str(median))\n"
   ]
  },
  {
   "cell_type": "markdown",
   "metadata": {},
   "source": [
    "#### Find the upper and lower quartiles"
   ]
  },
  {
   "cell_type": "code",
   "execution_count": 21,
   "metadata": {},
   "outputs": [
    {
     "name": "stdout",
     "output_type": "stream",
     "text": [
      "4 39 44\n",
      "41.5 [32, 36, 38, 39] [44, 47, 50, 52]\n",
      "2 36 38\n",
      "37.0\n",
      "2 47 50\n",
      "48.5\n",
      "IQR: 11.5\n"
     ]
    }
   ],
   "source": [
    "# Q1 = 38.814 Q3 = 40.812 # Your answer here \n",
    "\n",
    "data = sorted(data)\n",
    "n = len(data)\n",
    "\n",
    "if n % 2 == 0:\n",
    "    low = data[0:n//2]\n",
    "    high = data[n//2:n]\n",
    "    median = (data[n//2-1] + data[n//2]) / 2\n",
    "    print(n//2, data[n//2-1], data[n//2])\n",
    "else:\n",
    "    low = data[0:n//2-1]\n",
    "    high = data[n//2:n-1]\n",
    "    median = data[n//2]\n",
    "print(median,low,high)\n",
    "\n",
    "# lower Median\n",
    "n = len(low)\n",
    "if n % 2 == 0:\n",
    "    low_med = (low[n//2-1] + low[n//2]) / 2\n",
    "    print(n//2, low[n//2-1], low[n//2])\n",
    "else:\n",
    "    low_med = low[n//2]\n",
    "print(low_med)\n",
    "\n",
    "# Upper Median\n",
    "n = len(high)\n",
    "if n % 2 == 0:\n",
    "    high_med = (high[n//2-1] + high[n//2]) / 2\n",
    "    print(n//2, high[n//2-1], high[n//2])\n",
    "else:\n",
    "    high_med = high[n//2]\n",
    "print(high_med)\n",
    "\n",
    "print(\"IQR: \" + str(high_med - low_med))"
   ]
  },
  {
   "cell_type": "markdown",
   "metadata": {},
   "source": [
    "#### Calculate the interquartile range\n"
   ]
  },
  {
   "cell_type": "code",
   "execution_count": 22,
   "metadata": {},
   "outputs": [
    {
     "name": "stdout",
     "output_type": "stream",
     "text": [
      "IQR: 11.5\n"
     ]
    }
   ],
   "source": [
    "# Your answer here \n",
    "print(\"IQR: \" + str(high_med - low_med))"
   ]
  },
  {
   "cell_type": "markdown",
   "metadata": {},
   "source": [
    "#### Plot a boxplot to verify your answers"
   ]
  },
  {
   "cell_type": "code",
   "execution_count": 24,
   "metadata": {},
   "outputs": [
    {
     "data": {
      "image/png": "[encoded data removed]",
      "text/plain": [
       "<Figure size 432x288 with 1 Axes>"
      ]
     },
     "metadata": {},
     "output_type": "display_data"
    }
   ],
   "source": [
    "# Your answer here \n",
    "import matplotlib.pyplot as plt\n",
    "plt.style.use('ggplot') # for viewing a grid on plot\n",
    "plt.boxplot(data)\n",
    "plt.title (\"Marriages BoxPlot\")\n",
    "plt.show()\n",
    "\n",
    "\n"
   ]
  },
  {
   "cell_type": "code",
   "execution_count": null,
   "metadata": {},
   "outputs": [],
   "source": []
  }
 ],
 "metadata": {
  "kernelspec": {
   "display_name": "Python 3",
   "language": "python",
   "name": "python3"
  },
  "language_info": {
   "codemirror_mode": {
    "name": "ipython",
    "version": 3
   },
   "file_extension": ".py",
   "mimetype": "text/x-python",
   "name": "python",
   "nbconvert_exporter": "python",
   "pygments_lexer": "ipython3",
   "version": "3.6.6"
  }
 },
 "nbformat": 4,
 "nbformat_minor": 2
}
